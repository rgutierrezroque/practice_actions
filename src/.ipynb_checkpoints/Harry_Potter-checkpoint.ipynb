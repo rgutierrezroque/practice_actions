{
 "cells": [
  {
   "cell_type": "markdown",
   "id": "a055d1b1",
   "metadata": {},
   "source": [
    "# Practice with Python\n",
    "#### _Basic analysis on Harry Potter's characters_\n",
    "File to practice running some code in Jupyter Lab or Jupyter Notebook; also you can run it in Visual Studio Code with Python add in."
   ]
  },
  {
   "cell_type": "markdown",
   "id": "a0489d3b",
   "metadata": {},
   "source": [
    "## Import libraries and dataset"
   ]
  },
  {
   "cell_type": "code",
   "execution_count": 1,
   "id": "61878e4c",
   "metadata": {},
   "outputs": [],
   "source": [
    "import pandas as pd\n",
    "import numpy as np"
   ]
  },
  {
   "cell_type": "code",
   "execution_count": 2,
   "id": "40d33c50",
   "metadata": {},
   "outputs": [
    {
     "data": {
      "text/html": [
       "<div>\n",
       "<style scoped>\n",
       "    .dataframe tbody tr th:only-of-type {\n",
       "        vertical-align: middle;\n",
       "    }\n",
       "\n",
       "    .dataframe tbody tr th {\n",
       "        vertical-align: top;\n",
       "    }\n",
       "\n",
       "    .dataframe thead th {\n",
       "        text-align: right;\n",
       "    }\n",
       "</style>\n",
       "<table border=\"1\" class=\"dataframe\">\n",
       "  <thead>\n",
       "    <tr style=\"text-align: right;\">\n",
       "      <th></th>\n",
       "      <th>Character ID</th>\n",
       "      <th>Character Name</th>\n",
       "      <th>Species</th>\n",
       "      <th>Gender</th>\n",
       "      <th>House</th>\n",
       "      <th>Patronus</th>\n",
       "      <th>Wand (Wood)</th>\n",
       "      <th>Wand (Core)</th>\n",
       "    </tr>\n",
       "  </thead>\n",
       "  <tbody>\n",
       "    <tr>\n",
       "      <th>0</th>\n",
       "      <td>1</td>\n",
       "      <td>Harry Potter</td>\n",
       "      <td>Human</td>\n",
       "      <td>Male</td>\n",
       "      <td>Gryffindor</td>\n",
       "      <td>Stag</td>\n",
       "      <td>Holly</td>\n",
       "      <td>Phoenix Feather</td>\n",
       "    </tr>\n",
       "    <tr>\n",
       "      <th>1</th>\n",
       "      <td>2</td>\n",
       "      <td>Ron Weasley</td>\n",
       "      <td>Human</td>\n",
       "      <td>Male</td>\n",
       "      <td>Gryffindor</td>\n",
       "      <td>Jack Russell Terrier</td>\n",
       "      <td>NaN</td>\n",
       "      <td>NaN</td>\n",
       "    </tr>\n",
       "    <tr>\n",
       "      <th>2</th>\n",
       "      <td>3</td>\n",
       "      <td>Hermione Granger</td>\n",
       "      <td>Human</td>\n",
       "      <td>Female</td>\n",
       "      <td>Gryffindor</td>\n",
       "      <td>Otter</td>\n",
       "      <td>Vine</td>\n",
       "      <td>Dragon Heartstring</td>\n",
       "    </tr>\n",
       "    <tr>\n",
       "      <th>3</th>\n",
       "      <td>4</td>\n",
       "      <td>Albus Dumbledore</td>\n",
       "      <td>Human</td>\n",
       "      <td>Male</td>\n",
       "      <td>Gryffindor</td>\n",
       "      <td>Phoenix</td>\n",
       "      <td>Elder</td>\n",
       "      <td>Thestral Tail Hair</td>\n",
       "    </tr>\n",
       "    <tr>\n",
       "      <th>4</th>\n",
       "      <td>5</td>\n",
       "      <td>Rubeus Hagrid</td>\n",
       "      <td>Half-Human/Half-Giant</td>\n",
       "      <td>Male</td>\n",
       "      <td>Gryffindor</td>\n",
       "      <td>NaN</td>\n",
       "      <td>Oak</td>\n",
       "      <td>NaN</td>\n",
       "    </tr>\n",
       "  </tbody>\n",
       "</table>\n",
       "</div>"
      ],
      "text/plain": [
       "   Character ID    Character Name                Species  Gender       House  \\\n",
       "0             1      Harry Potter                  Human    Male  Gryffindor   \n",
       "1             2       Ron Weasley                  Human    Male  Gryffindor   \n",
       "2             3  Hermione Granger                  Human  Female  Gryffindor   \n",
       "3             4  Albus Dumbledore                  Human    Male  Gryffindor   \n",
       "4             5     Rubeus Hagrid  Half-Human/Half-Giant    Male  Gryffindor   \n",
       "\n",
       "               Patronus Wand (Wood)         Wand (Core)  \n",
       "0                  Stag       Holly     Phoenix Feather  \n",
       "1  Jack Russell Terrier         NaN                 NaN  \n",
       "2                 Otter        Vine  Dragon Heartstring  \n",
       "3               Phoenix       Elder  Thestral Tail Hair  \n",
       "4                   NaN         Oak                 NaN  "
      ]
     },
     "execution_count": 2,
     "metadata": {},
     "output_type": "execute_result"
    }
   ],
   "source": [
    "# Open data of characters from Harry Potter movies\n",
    "# Original data from Kaggle, Harry Potter Movies Dataset, by Maryna Antonevych\n",
    "my_url = 'https://raw.githubusercontent.com/vcuspinera/Datasets/main/harry_potter_movies/Characters.csv'\n",
    "df = pd.read_csv(my_url, encoding='latin1')\n",
    "\n",
    "# Look database\n",
    "df.head()"
   ]
  },
  {
   "cell_type": "markdown",
   "id": "57c2656b",
   "metadata": {},
   "source": [
    "## Basic stats of some variables"
   ]
  },
  {
   "cell_type": "code",
   "execution_count": 3,
   "id": "110e07ad",
   "metadata": {},
   "outputs": [
    {
     "data": {
      "text/plain": [
       "Index(['Character ID', 'Character Name', 'Species', 'Gender', 'House',\n",
       "       'Patronus', 'Wand (Wood)', 'Wand (Core)'],\n",
       "      dtype='object')"
      ]
     },
     "execution_count": 3,
     "metadata": {},
     "output_type": "execute_result"
    }
   ],
   "source": [
    "# Name of columns\n",
    "df.columns"
   ]
  },
  {
   "cell_type": "code",
   "execution_count": 4,
   "id": "5c3f479e",
   "metadata": {},
   "outputs": [
    {
     "name": "stdout",
     "output_type": "stream",
     "text": [
      "<class 'pandas.core.frame.DataFrame'>\n",
      "RangeIndex: 166 entries, 0 to 165\n",
      "Data columns (total 8 columns):\n",
      " #   Column          Non-Null Count  Dtype \n",
      "---  ------          --------------  ----- \n",
      " 0   Character ID    166 non-null    int64 \n",
      " 1   Character Name  166 non-null    object\n",
      " 2   Species         125 non-null    object\n",
      " 3   Gender          125 non-null    object\n",
      " 4   House           75 non-null     object\n",
      " 5   Patronus        20 non-null     object\n",
      " 6   Wand (Wood)     21 non-null     object\n",
      " 7   Wand (Core)     18 non-null     object\n",
      "dtypes: int64(1), object(7)\n",
      "memory usage: 10.5+ KB\n"
     ]
    }
   ],
   "source": [
    "# Basic info\n",
    "df.info()"
   ]
  },
  {
   "cell_type": "code",
   "execution_count": 5,
   "id": "273c9348",
   "metadata": {},
   "outputs": [
    {
     "data": {
      "text/plain": [
       "Character ID        0\n",
       "Character Name      0\n",
       "Species            41\n",
       "Gender             41\n",
       "House              91\n",
       "Patronus          146\n",
       "Wand (Wood)       145\n",
       "Wand (Core)       148\n",
       "dtype: int64"
      ]
     },
     "execution_count": 5,
     "metadata": {},
     "output_type": "execute_result"
    }
   ],
   "source": [
    "# Number of 'Nan' values per variable\n",
    "df.isnull().sum(axis = 0)"
   ]
  },
  {
   "cell_type": "code",
   "execution_count": 6,
   "id": "49a81944",
   "metadata": {},
   "outputs": [
    {
     "data": {
      "text/html": [
       "<div>\n",
       "<style scoped>\n",
       "    .dataframe tbody tr th:only-of-type {\n",
       "        vertical-align: middle;\n",
       "    }\n",
       "\n",
       "    .dataframe tbody tr th {\n",
       "        vertical-align: top;\n",
       "    }\n",
       "\n",
       "    .dataframe thead th {\n",
       "        text-align: right;\n",
       "    }\n",
       "</style>\n",
       "<table border=\"1\" class=\"dataframe\">\n",
       "  <thead>\n",
       "    <tr style=\"text-align: right;\">\n",
       "      <th></th>\n",
       "      <th>Character Name</th>\n",
       "    </tr>\n",
       "    <tr>\n",
       "      <th>Species</th>\n",
       "      <th></th>\n",
       "    </tr>\n",
       "  </thead>\n",
       "  <tbody>\n",
       "    <tr>\n",
       "      <th>Human</th>\n",
       "      <td>104</td>\n",
       "    </tr>\n",
       "    <tr>\n",
       "      <th>Ghost</th>\n",
       "      <td>4</td>\n",
       "    </tr>\n",
       "    <tr>\n",
       "      <th>Centaur</th>\n",
       "      <td>3</td>\n",
       "    </tr>\n",
       "    <tr>\n",
       "      <th>Goblin</th>\n",
       "      <td>2</td>\n",
       "    </tr>\n",
       "    <tr>\n",
       "      <th>Half-Human/Half-Giant</th>\n",
       "      <td>2</td>\n",
       "    </tr>\n",
       "    <tr>\n",
       "      <th>House Elf</th>\n",
       "      <td>2</td>\n",
       "    </tr>\n",
       "    <tr>\n",
       "      <th>Werewolf</th>\n",
       "      <td>2</td>\n",
       "    </tr>\n",
       "    <tr>\n",
       "      <th>Acromantula</th>\n",
       "      <td>1</td>\n",
       "    </tr>\n",
       "    <tr>\n",
       "      <th>Basilisk</th>\n",
       "      <td>1</td>\n",
       "    </tr>\n",
       "    <tr>\n",
       "      <th>Giant</th>\n",
       "      <td>1</td>\n",
       "    </tr>\n",
       "    <tr>\n",
       "      <th>Human (Part-Goblin)</th>\n",
       "      <td>1</td>\n",
       "    </tr>\n",
       "    <tr>\n",
       "      <th>Human (Quarter-Veela)</th>\n",
       "      <td>1</td>\n",
       "    </tr>\n",
       "    <tr>\n",
       "      <th>HumanÂ (WerewolfÂ traits)</th>\n",
       "      <td>1</td>\n",
       "    </tr>\n",
       "  </tbody>\n",
       "</table>\n",
       "</div>"
      ],
      "text/plain": [
       "                           Character Name\n",
       "Species                                  \n",
       "Human                                 104\n",
       "Ghost                                   4\n",
       "Centaur                                 3\n",
       "Goblin                                  2\n",
       "Half-Human/Half-Giant                   2\n",
       "House Elf                               2\n",
       "Werewolf                                2\n",
       "Acromantula                             1\n",
       "Basilisk                                1\n",
       "Giant                                   1\n",
       "Human (Part-Goblin)                     1\n",
       "Human (Quarter-Veela)                   1\n",
       "HumanÂ (WerewolfÂ traits)               1"
      ]
     },
     "execution_count": 6,
     "metadata": {},
     "output_type": "execute_result"
    }
   ],
   "source": [
    "# Number of characters by Species\n",
    "df_species = pd.DataFrame(df.groupby('Species')['Character Name'].count().sort_values(ascending=False))\n",
    "df_species"
   ]
  },
  {
   "cell_type": "code",
   "execution_count": 7,
   "id": "4df118e5",
   "metadata": {},
   "outputs": [
    {
     "data": {
      "text/html": [
       "<div>\n",
       "<style scoped>\n",
       "    .dataframe tbody tr th:only-of-type {\n",
       "        vertical-align: middle;\n",
       "    }\n",
       "\n",
       "    .dataframe tbody tr th {\n",
       "        vertical-align: top;\n",
       "    }\n",
       "\n",
       "    .dataframe thead th {\n",
       "        text-align: right;\n",
       "    }\n",
       "</style>\n",
       "<table border=\"1\" class=\"dataframe\">\n",
       "  <thead>\n",
       "    <tr style=\"text-align: right;\">\n",
       "      <th></th>\n",
       "      <th>Character Name</th>\n",
       "    </tr>\n",
       "    <tr>\n",
       "      <th>House</th>\n",
       "      <th></th>\n",
       "    </tr>\n",
       "  </thead>\n",
       "  <tbody>\n",
       "    <tr>\n",
       "      <th>Gryffindor</th>\n",
       "      <td>31</td>\n",
       "    </tr>\n",
       "    <tr>\n",
       "      <th>Slytherin</th>\n",
       "      <td>20</td>\n",
       "    </tr>\n",
       "    <tr>\n",
       "      <th>Ravenclaw</th>\n",
       "      <td>12</td>\n",
       "    </tr>\n",
       "    <tr>\n",
       "      <th>Hufflepuff</th>\n",
       "      <td>8</td>\n",
       "    </tr>\n",
       "    <tr>\n",
       "      <th>Beauxbatons Academy of Magic</th>\n",
       "      <td>2</td>\n",
       "    </tr>\n",
       "    <tr>\n",
       "      <th>Durmstrang Institute</th>\n",
       "      <td>2</td>\n",
       "    </tr>\n",
       "  </tbody>\n",
       "</table>\n",
       "</div>"
      ],
      "text/plain": [
       "                              Character Name\n",
       "House                                       \n",
       "Gryffindor                                31\n",
       "Slytherin                                 20\n",
       "Ravenclaw                                 12\n",
       "Hufflepuff                                 8\n",
       "Beauxbatons Academy of Magic               2\n",
       "Durmstrang Institute                       2"
      ]
     },
     "execution_count": 7,
     "metadata": {},
     "output_type": "execute_result"
    }
   ],
   "source": [
    "# Number of characters by House\n",
    "df_house = pd.DataFrame(df.groupby('House')['Character Name'].count().sort_values(ascending=False))\n",
    "df_house"
   ]
  },
  {
   "cell_type": "code",
   "execution_count": 8,
   "id": "e16a6342",
   "metadata": {},
   "outputs": [
    {
     "data": {
      "text/html": [
       "<div>\n",
       "<style scoped>\n",
       "    .dataframe tbody tr th:only-of-type {\n",
       "        vertical-align: middle;\n",
       "    }\n",
       "\n",
       "    .dataframe tbody tr th {\n",
       "        vertical-align: top;\n",
       "    }\n",
       "\n",
       "    .dataframe thead th {\n",
       "        text-align: right;\n",
       "    }\n",
       "</style>\n",
       "<table border=\"1\" class=\"dataframe\">\n",
       "  <thead>\n",
       "    <tr style=\"text-align: right;\">\n",
       "      <th></th>\n",
       "      <th>Character Name</th>\n",
       "    </tr>\n",
       "    <tr>\n",
       "      <th>Gender</th>\n",
       "      <th></th>\n",
       "    </tr>\n",
       "  </thead>\n",
       "  <tbody>\n",
       "    <tr>\n",
       "      <th>Male</th>\n",
       "      <td>82</td>\n",
       "    </tr>\n",
       "    <tr>\n",
       "      <th>Female</th>\n",
       "      <td>42</td>\n",
       "    </tr>\n",
       "    <tr>\n",
       "      <th>Human</th>\n",
       "      <td>1</td>\n",
       "    </tr>\n",
       "  </tbody>\n",
       "</table>\n",
       "</div>"
      ],
      "text/plain": [
       "        Character Name\n",
       "Gender                \n",
       "Male                82\n",
       "Female              42\n",
       "Human                1"
      ]
     },
     "execution_count": 8,
     "metadata": {},
     "output_type": "execute_result"
    }
   ],
   "source": [
    "# Number of characters by Gender\n",
    "pd.DataFrame(df.groupby('Gender')['Character Name'].count().sort_values(ascending=False))"
   ]
  },
  {
   "cell_type": "markdown",
   "id": "2395905c",
   "metadata": {},
   "source": [
    "## Plots"
   ]
  },
  {
   "cell_type": "code",
   "execution_count": 9,
   "id": "18d9e46b",
   "metadata": {},
   "outputs": [
    {
     "ename": "ModuleNotFoundError",
     "evalue": "No module named 'altair'",
     "output_type": "error",
     "traceback": [
      "\u001b[1;31m---------------------------------------------------------------------------\u001b[0m",
      "\u001b[1;31mModuleNotFoundError\u001b[0m                       Traceback (most recent call last)",
      "\u001b[1;32m~\\AppData\\Local\\Temp\\ipykernel_20536\\3625816105.py\u001b[0m in \u001b[0;36m<module>\u001b[1;34m\u001b[0m\n\u001b[0;32m      1\u001b[0m \u001b[1;31m# To install Altair look the following link\u001b[0m\u001b[1;33m\u001b[0m\u001b[1;33m\u001b[0m\u001b[0m\n\u001b[0;32m      2\u001b[0m \u001b[1;31m#    https://altair-viz.github.io/getting_started/installation.html\u001b[0m\u001b[1;33m\u001b[0m\u001b[1;33m\u001b[0m\u001b[0m\n\u001b[1;32m----> 3\u001b[1;33m \u001b[1;32mimport\u001b[0m \u001b[0maltair\u001b[0m \u001b[1;32mas\u001b[0m \u001b[0malt\u001b[0m\u001b[1;33m\u001b[0m\u001b[1;33m\u001b[0m\u001b[0m\n\u001b[0m\u001b[0;32m      4\u001b[0m \u001b[0malt\u001b[0m\u001b[1;33m.\u001b[0m\u001b[0mrenderers\u001b[0m\u001b[1;33m.\u001b[0m\u001b[0menable\u001b[0m\u001b[1;33m(\u001b[0m\u001b[1;34m'default'\u001b[0m\u001b[1;33m)\u001b[0m\u001b[1;33m\u001b[0m\u001b[1;33m\u001b[0m\u001b[0m\n",
      "\u001b[1;31mModuleNotFoundError\u001b[0m: No module named 'altair'"
     ]
    }
   ],
   "source": [
    "# To install Altair look the following link\n",
    "#    https://altair-viz.github.io/getting_started/installation.html\n",
    "import altair as alt\n",
    "alt.renderers.enable('default')\n"
   ]
  },
  {
   "cell_type": "code",
   "execution_count": null,
   "id": "b009e545",
   "metadata": {},
   "outputs": [],
   "source": [
    "# plot frequency by House\n",
    "alt.Chart(df_house.reset_index().rename(columns={\"Character Name\":\"Frequency\"})\n",
    "         ).mark_bar().encode(\n",
    "    x='Frequency',\n",
    "    y=alt.Y('House:N', sort='-x'),\n",
    "    color=alt.Color('House', legend=None),\n",
    "    tooltip=['House', 'Frequency']\n",
    ").properties(title=\"Number of characters of Harry Potter's movies by House\")"
   ]
  },
  {
   "cell_type": "code",
   "execution_count": null,
   "id": "a36eb13f",
   "metadata": {},
   "outputs": [],
   "source": [
    "# plot frequency by Species\n",
    "alt.Chart(df_species.reset_index().rename(columns={\"Character Name\":\"Frequency\"})\n",
    "         ).mark_bar().encode(\n",
    "    x=alt.X('Frequency', scale=alt.Scale(type='log')),\n",
    "    y=alt.Y('Species:N', sort='-x'),\n",
    "    color=alt.Color('Species', legend=None),\n",
    "    tooltip=['Species', 'Frequency']\n",
    ").properties(title=\"Number of characters of Harry Potter's movies by Species\")"
   ]
  },
  {
   "cell_type": "code",
   "execution_count": null,
   "id": "47aa60fd",
   "metadata": {},
   "outputs": [],
   "source": []
  },
  {
   "cell_type": "code",
   "execution_count": null,
   "id": "00671143",
   "metadata": {},
   "outputs": [],
   "source": []
  },
  {
   "cell_type": "code",
   "execution_count": null,
   "id": "6d15238f",
   "metadata": {},
   "outputs": [],
   "source": []
  }
 ],
 "metadata": {
  "kernelspec": {
   "display_name": "Python 3 (ipykernel)",
   "language": "python",
   "name": "python3"
  },
  "language_info": {
   "codemirror_mode": {
    "name": "ipython",
    "version": 3
   },
   "file_extension": ".py",
   "mimetype": "text/x-python",
   "name": "python",
   "nbconvert_exporter": "python",
   "pygments_lexer": "ipython3",
   "version": "3.9.13"
  }
 },
 "nbformat": 4,
 "nbformat_minor": 5
}
